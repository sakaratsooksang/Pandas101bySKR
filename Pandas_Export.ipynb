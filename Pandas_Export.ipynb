{
 "cells": [
  {
   "cell_type": "markdown",
   "metadata": {},
   "source": [
    "# **Pandas** **Export to other format**\n",
    "**Author** : Sakarat Sooksang <br>\n",
    "**My GitHub** : <a href=https://github.com/sakaratsooksang/Pandas101bySKR>GitHub repository</a><br>\n",
    "Clone : https://github.com/sakaratsooksang/Pandas101bySKR.git"
   ]
  },
  {
   "cell_type": "markdown",
   "metadata": {},
   "source": [
    "# Install Package"
   ]
  },
  {
   "cell_type": "code",
   "execution_count": 41,
   "metadata": {},
   "outputs": [
    {
     "name": "stdout",
     "output_type": "stream",
     "text": [
      "Requirement already satisfied: pip in /Users/sakarat/opt/anaconda3/lib/python3.8/site-packages (21.1.2)\n",
      "Requirement already satisfied: json2xml in /Users/sakarat/opt/anaconda3/lib/python3.8/site-packages (3.6.0)\n",
      "Requirement already satisfied: xmltodict==0.11.0 in /Users/sakarat/opt/anaconda3/lib/python3.8/site-packages (from json2xml) (0.11.0)\n",
      "Requirement already satisfied: dicttoxml==1.7.4 in /Users/sakarat/opt/anaconda3/lib/python3.8/site-packages (from json2xml) (1.7.4)\n",
      "Requirement already satisfied: requests>=2.20.0 in /Users/sakarat/opt/anaconda3/lib/python3.8/site-packages (from json2xml) (2.25.1)\n",
      "Requirement already satisfied: idna<3,>=2.5 in /Users/sakarat/opt/anaconda3/lib/python3.8/site-packages (from requests>=2.20.0->json2xml) (2.10)\n",
      "Requirement already satisfied: certifi>=2017.4.17 in /Users/sakarat/opt/anaconda3/lib/python3.8/site-packages (from requests>=2.20.0->json2xml) (2021.5.30)\n",
      "Requirement already satisfied: chardet<5,>=3.0.2 in /Users/sakarat/opt/anaconda3/lib/python3.8/site-packages (from requests>=2.20.0->json2xml) (4.0.0)\n",
      "Requirement already satisfied: urllib3<1.27,>=1.21.1 in /Users/sakarat/opt/anaconda3/lib/python3.8/site-packages (from requests>=2.20.0->json2xml) (1.26.4)\n",
      "Requirement already satisfied: pyproj in /Users/sakarat/opt/anaconda3/lib/python3.8/site-packages (3.1.0)\n",
      "Requirement already satisfied: certifi in /Users/sakarat/opt/anaconda3/lib/python3.8/site-packages (from pyproj) (2021.5.30)\n",
      "Requirement already satisfied: geopandas in /Users/sakarat/opt/anaconda3/lib/python3.8/site-packages (0.9.0+33.gc6aedba)\n",
      "Requirement already satisfied: pyproj>=2.2.0 in /Users/sakarat/opt/anaconda3/lib/python3.8/site-packages (from geopandas) (3.1.0)\n",
      "Requirement already satisfied: shapely>=1.6 in /Users/sakarat/opt/anaconda3/lib/python3.8/site-packages (from geopandas) (1.7.1)\n",
      "Requirement already satisfied: fiona>=1.8 in /Users/sakarat/opt/anaconda3/lib/python3.8/site-packages (from geopandas) (1.8.20)\n",
      "Requirement already satisfied: pandas>=0.24.0 in /Users/sakarat/opt/anaconda3/lib/python3.8/site-packages (from geopandas) (1.2.4)\n",
      "Requirement already satisfied: click-plugins>=1.0 in /Users/sakarat/opt/anaconda3/lib/python3.8/site-packages (from fiona>=1.8->geopandas) (1.1.1)\n",
      "Requirement already satisfied: click>=4.0 in /Users/sakarat/opt/anaconda3/lib/python3.8/site-packages (from fiona>=1.8->geopandas) (7.1.2)\n",
      "Requirement already satisfied: setuptools in /Users/sakarat/opt/anaconda3/lib/python3.8/site-packages (from fiona>=1.8->geopandas) (52.0.0.post20210125)\n",
      "Requirement already satisfied: attrs>=17 in /Users/sakarat/opt/anaconda3/lib/python3.8/site-packages (from fiona>=1.8->geopandas) (20.3.0)\n",
      "Requirement already satisfied: munch in /Users/sakarat/opt/anaconda3/lib/python3.8/site-packages (from fiona>=1.8->geopandas) (2.5.0)\n",
      "Requirement already satisfied: six>=1.7 in /Users/sakarat/opt/anaconda3/lib/python3.8/site-packages (from fiona>=1.8->geopandas) (1.15.0)\n",
      "Requirement already satisfied: certifi in /Users/sakarat/opt/anaconda3/lib/python3.8/site-packages (from fiona>=1.8->geopandas) (2021.5.30)\n",
      "Requirement already satisfied: cligj>=0.5 in /Users/sakarat/opt/anaconda3/lib/python3.8/site-packages (from fiona>=1.8->geopandas) (0.7.2)\n",
      "Requirement already satisfied: python-dateutil>=2.7.3 in /Users/sakarat/opt/anaconda3/lib/python3.8/site-packages (from pandas>=0.24.0->geopandas) (2.8.1)\n",
      "Requirement already satisfied: pytz>=2017.3 in /Users/sakarat/opt/anaconda3/lib/python3.8/site-packages (from pandas>=0.24.0->geopandas) (2021.1)\n",
      "Requirement already satisfied: numpy>=1.16.5 in /Users/sakarat/opt/anaconda3/lib/python3.8/site-packages (from pandas>=0.24.0->geopandas) (1.19.5)\n"
     ]
    }
   ],
   "source": [
    "! pip install --upgrade pip\n",
    "! pip install json2xml\n",
    "! pip install pyproj\n",
    "! pip install geopandas"
   ]
  },
  {
   "cell_type": "markdown",
   "metadata": {},
   "source": [
    "# Import"
   ]
  },
  {
   "cell_type": "code",
   "execution_count": 39,
   "metadata": {},
   "outputs": [],
   "source": [
    "import pandas as pd\n",
    "import json\n",
    "from json2xml import json2xml\n",
    "from json2xml.utils import readfromurl, readfromstring, readfromjson"
   ]
  },
  {
   "cell_type": "markdown",
   "metadata": {},
   "source": [
    "# Dataframe to CSV"
   ]
  },
  {
   "cell_type": "code",
   "execution_count": 7,
   "metadata": {},
   "outputs": [
    {
     "data": {
      "text/html": [
       "<div>\n",
       "<style scoped>\n",
       "    .dataframe tbody tr th:only-of-type {\n",
       "        vertical-align: middle;\n",
       "    }\n",
       "\n",
       "    .dataframe tbody tr th {\n",
       "        vertical-align: top;\n",
       "    }\n",
       "\n",
       "    .dataframe thead th {\n",
       "        text-align: right;\n",
       "    }\n",
       "</style>\n",
       "<table border=\"1\" class=\"dataframe\">\n",
       "  <thead>\n",
       "    <tr style=\"text-align: right;\">\n",
       "      <th></th>\n",
       "      <th>Temperature</th>\n",
       "      <th>WindSpeed</th>\n",
       "      <th>Event</th>\n",
       "    </tr>\n",
       "    <tr>\n",
       "      <th>Day</th>\n",
       "      <th></th>\n",
       "      <th></th>\n",
       "      <th></th>\n",
       "    </tr>\n",
       "  </thead>\n",
       "  <tbody>\n",
       "    <tr>\n",
       "      <th>2020-12-01</th>\n",
       "      <td>30</td>\n",
       "      <td>9</td>\n",
       "      <td>แดดร้อน</td>\n",
       "    </tr>\n",
       "    <tr>\n",
       "      <th>2020-12-02</th>\n",
       "      <td>28</td>\n",
       "      <td>8</td>\n",
       "      <td>เมฆมาก</td>\n",
       "    </tr>\n",
       "    <tr>\n",
       "      <th>2020-12-03</th>\n",
       "      <td>27</td>\n",
       "      <td>4</td>\n",
       "      <td>ฝนตก</td>\n",
       "    </tr>\n",
       "    <tr>\n",
       "      <th>2020-12-04</th>\n",
       "      <td>19</td>\n",
       "      <td>3</td>\n",
       "      <td>แดดร้อน</td>\n",
       "    </tr>\n",
       "    <tr>\n",
       "      <th>2020-12-05</th>\n",
       "      <td>20</td>\n",
       "      <td>5</td>\n",
       "      <td>เมฆมาก</td>\n",
       "    </tr>\n",
       "  </tbody>\n",
       "</table>\n",
       "</div>"
      ],
      "text/plain": [
       "            Temperature  WindSpeed    Event\n",
       "Day                                        \n",
       "2020-12-01           30          9  แดดร้อน\n",
       "2020-12-02           28          8   เมฆมาก\n",
       "2020-12-03           27          4     ฝนตก\n",
       "2020-12-04           19          3  แดดร้อน\n",
       "2020-12-05           20          5   เมฆมาก"
      ]
     },
     "execution_count": 7,
     "metadata": {},
     "output_type": "execute_result"
    }
   ],
   "source": [
    "# อ่านไฟล์ excel เข้ามาสร้างเป็น Dataframe\n",
    "df = pd.read_excel('dataupdate.xlsx','weather',index_col='Day')\n",
    "df.head()"
   ]
  },
  {
   "cell_type": "code",
   "execution_count": 27,
   "metadata": {},
   "outputs": [
    {
     "data": {
      "text/html": [
       "<div>\n",
       "<style scoped>\n",
       "    .dataframe tbody tr th:only-of-type {\n",
       "        vertical-align: middle;\n",
       "    }\n",
       "\n",
       "    .dataframe tbody tr th {\n",
       "        vertical-align: top;\n",
       "    }\n",
       "\n",
       "    .dataframe thead th {\n",
       "        text-align: right;\n",
       "    }\n",
       "</style>\n",
       "<table border=\"1\" class=\"dataframe\">\n",
       "  <thead>\n",
       "    <tr style=\"text-align: right;\">\n",
       "      <th></th>\n",
       "      <th>Temperature</th>\n",
       "      <th>WindSpeed</th>\n",
       "      <th>Event</th>\n",
       "    </tr>\n",
       "    <tr>\n",
       "      <th>Day</th>\n",
       "      <th></th>\n",
       "      <th></th>\n",
       "      <th></th>\n",
       "    </tr>\n",
       "  </thead>\n",
       "  <tbody>\n",
       "    <tr>\n",
       "      <th>2020-12-01</th>\n",
       "      <td>30</td>\n",
       "      <td>9</td>\n",
       "      <td>แดดร้อน</td>\n",
       "    </tr>\n",
       "    <tr>\n",
       "      <th>2020-12-02</th>\n",
       "      <td>28</td>\n",
       "      <td>8</td>\n",
       "      <td>เมฆมาก</td>\n",
       "    </tr>\n",
       "    <tr>\n",
       "      <th>2020-12-03</th>\n",
       "      <td>27</td>\n",
       "      <td>4</td>\n",
       "      <td>ฝนตก</td>\n",
       "    </tr>\n",
       "    <tr>\n",
       "      <th>2020-12-04</th>\n",
       "      <td>19</td>\n",
       "      <td>3</td>\n",
       "      <td>แดดร้อน</td>\n",
       "    </tr>\n",
       "    <tr>\n",
       "      <th>2020-12-05</th>\n",
       "      <td>20</td>\n",
       "      <td>5</td>\n",
       "      <td>เมฆมาก</td>\n",
       "    </tr>\n",
       "    <tr>\n",
       "      <th>2020-12-06</th>\n",
       "      <td>25</td>\n",
       "      <td>6</td>\n",
       "      <td>ฝนตก</td>\n",
       "    </tr>\n",
       "    <tr>\n",
       "      <th>2020-12-07</th>\n",
       "      <td>36</td>\n",
       "      <td>4</td>\n",
       "      <td>ฝนตก</td>\n",
       "    </tr>\n",
       "    <tr>\n",
       "      <th>2020-12-08</th>\n",
       "      <td>28</td>\n",
       "      <td>6</td>\n",
       "      <td>ฝนตก</td>\n",
       "    </tr>\n",
       "    <tr>\n",
       "      <th>2020-12-09</th>\n",
       "      <td>17</td>\n",
       "      <td>5</td>\n",
       "      <td>เมฆมาก</td>\n",
       "    </tr>\n",
       "    <tr>\n",
       "      <th>2020-12-10</th>\n",
       "      <td>24</td>\n",
       "      <td>6</td>\n",
       "      <td>แดดร้อน</td>\n",
       "    </tr>\n",
       "    <tr>\n",
       "      <th>2020-12-11</th>\n",
       "      <td>26</td>\n",
       "      <td>4</td>\n",
       "      <td>ฝนตก</td>\n",
       "    </tr>\n",
       "    <tr>\n",
       "      <th>2020-12-12</th>\n",
       "      <td>27</td>\n",
       "      <td>9</td>\n",
       "      <td>แดดร้อน</td>\n",
       "    </tr>\n",
       "    <tr>\n",
       "      <th>2020-12-13</th>\n",
       "      <td>30</td>\n",
       "      <td>2</td>\n",
       "      <td>แดดร้อน</td>\n",
       "    </tr>\n",
       "    <tr>\n",
       "      <th>2020-12-14</th>\n",
       "      <td>31</td>\n",
       "      <td>5</td>\n",
       "      <td>เมฆมาก</td>\n",
       "    </tr>\n",
       "    <tr>\n",
       "      <th>2020-12-15</th>\n",
       "      <td>28</td>\n",
       "      <td>4</td>\n",
       "      <td>แดดร้อน</td>\n",
       "    </tr>\n",
       "    <tr>\n",
       "      <th>2020-12-16</th>\n",
       "      <td>27</td>\n",
       "      <td>7</td>\n",
       "      <td>แดดร้อน</td>\n",
       "    </tr>\n",
       "    <tr>\n",
       "      <th>2020-12-17</th>\n",
       "      <td>20</td>\n",
       "      <td>8</td>\n",
       "      <td>ฝนตก</td>\n",
       "    </tr>\n",
       "    <tr>\n",
       "      <th>2020-12-18</th>\n",
       "      <td>18</td>\n",
       "      <td>5</td>\n",
       "      <td>ฝนตก</td>\n",
       "    </tr>\n",
       "    <tr>\n",
       "      <th>2020-12-19</th>\n",
       "      <td>25</td>\n",
       "      <td>7</td>\n",
       "      <td>แดดร้อน</td>\n",
       "    </tr>\n",
       "    <tr>\n",
       "      <th>2020-12-20</th>\n",
       "      <td>28</td>\n",
       "      <td>4</td>\n",
       "      <td>เมฆมาก</td>\n",
       "    </tr>\n",
       "    <tr>\n",
       "      <th>2020-12-21</th>\n",
       "      <td>25</td>\n",
       "      <td>5</td>\n",
       "      <td>เมฆมาก</td>\n",
       "    </tr>\n",
       "    <tr>\n",
       "      <th>2020-12-22</th>\n",
       "      <td>38</td>\n",
       "      <td>2</td>\n",
       "      <td>เมฆมาก</td>\n",
       "    </tr>\n",
       "    <tr>\n",
       "      <th>2020-12-23</th>\n",
       "      <td>34</td>\n",
       "      <td>3</td>\n",
       "      <td>ฝนตก</td>\n",
       "    </tr>\n",
       "    <tr>\n",
       "      <th>2020-12-24</th>\n",
       "      <td>29</td>\n",
       "      <td>4</td>\n",
       "      <td>ฝนตก</td>\n",
       "    </tr>\n",
       "    <tr>\n",
       "      <th>2020-12-25</th>\n",
       "      <td>34</td>\n",
       "      <td>5</td>\n",
       "      <td>แดดร้อน</td>\n",
       "    </tr>\n",
       "    <tr>\n",
       "      <th>2020-12-26</th>\n",
       "      <td>25</td>\n",
       "      <td>8</td>\n",
       "      <td>ฝนตก</td>\n",
       "    </tr>\n",
       "    <tr>\n",
       "      <th>2020-12-27</th>\n",
       "      <td>28</td>\n",
       "      <td>9</td>\n",
       "      <td>เมฆมาก</td>\n",
       "    </tr>\n",
       "    <tr>\n",
       "      <th>2020-12-28</th>\n",
       "      <td>30</td>\n",
       "      <td>2</td>\n",
       "      <td>เมฆมาก</td>\n",
       "    </tr>\n",
       "    <tr>\n",
       "      <th>2020-12-29</th>\n",
       "      <td>31</td>\n",
       "      <td>1</td>\n",
       "      <td>ฝนตก</td>\n",
       "    </tr>\n",
       "    <tr>\n",
       "      <th>2020-12-30</th>\n",
       "      <td>35</td>\n",
       "      <td>2</td>\n",
       "      <td>ฝนตก</td>\n",
       "    </tr>\n",
       "  </tbody>\n",
       "</table>\n",
       "</div>"
      ],
      "text/plain": [
       "            Temperature  WindSpeed    Event\n",
       "Day                                        \n",
       "2020-12-01           30          9  แดดร้อน\n",
       "2020-12-02           28          8   เมฆมาก\n",
       "2020-12-03           27          4     ฝนตก\n",
       "2020-12-04           19          3  แดดร้อน\n",
       "2020-12-05           20          5   เมฆมาก\n",
       "2020-12-06           25          6     ฝนตก\n",
       "2020-12-07           36          4     ฝนตก\n",
       "2020-12-08           28          6     ฝนตก\n",
       "2020-12-09           17          5   เมฆมาก\n",
       "2020-12-10           24          6  แดดร้อน\n",
       "2020-12-11           26          4     ฝนตก\n",
       "2020-12-12           27          9  แดดร้อน\n",
       "2020-12-13           30          2  แดดร้อน\n",
       "2020-12-14           31          5   เมฆมาก\n",
       "2020-12-15           28          4  แดดร้อน\n",
       "2020-12-16           27          7  แดดร้อน\n",
       "2020-12-17           20          8     ฝนตก\n",
       "2020-12-18           18          5     ฝนตก\n",
       "2020-12-19           25          7  แดดร้อน\n",
       "2020-12-20           28          4   เมฆมาก\n",
       "2020-12-21           25          5   เมฆมาก\n",
       "2020-12-22           38          2   เมฆมาก\n",
       "2020-12-23           34          3     ฝนตก\n",
       "2020-12-24           29          4     ฝนตก\n",
       "2020-12-25           34          5  แดดร้อน\n",
       "2020-12-26           25          8     ฝนตก\n",
       "2020-12-27           28          9   เมฆมาก\n",
       "2020-12-28           30          2   เมฆมาก\n",
       "2020-12-29           31          1     ฝนตก\n",
       "2020-12-30           35          2     ฝนตก"
      ]
     },
     "execution_count": 27,
     "metadata": {},
     "output_type": "execute_result"
    }
   ],
   "source": [
    "df.to_csv('weather.csv',header=True,index=True)"
   ]
  },
  {
   "cell_type": "markdown",
   "metadata": {},
   "source": [
    "# Dataframe to JSON"
   ]
  },
  {
   "cell_type": "code",
   "execution_count": 34,
   "metadata": {},
   "outputs": [],
   "source": [
    "def writeJSON(dataframe,output):\n",
    "    db = dataframe.to_json(orient=\"records\")\n",
    "    db = json.loads(db)\n",
    "    with open(output,'w') as f :\n",
    "        json.dump(db, f,indent=4)  \n",
    "    return"
   ]
  },
  {
   "cell_type": "markdown",
   "metadata": {},
   "source": [
    "เป็นการนำdataframe และชื่อไฟล์ output นำเข้าไปยังฟังก์ชัน <br>\n",
    "จากนั้นจะทำการ dump JSON ออกมา <br>indent เป็นการบอกว่าต้องการ space มากแค่ไหน"
   ]
  },
  {
   "cell_type": "code",
   "execution_count": 35,
   "metadata": {},
   "outputs": [],
   "source": [
    "writeJSON(df,'JSON_export_test.json')"
   ]
  },
  {
   "cell_type": "markdown",
   "metadata": {},
   "source": [
    "# JSON to XML"
   ]
  },
  {
   "cell_type": "code",
   "execution_count": 37,
   "metadata": {},
   "outputs": [],
   "source": [
    "def writeXML(json,output):\n",
    "    data = readfromjson(json)\n",
    "    xml = (json2xml.Json2xml(data, wrapper=\"all\", pretty=True).to_xml())\n",
    "    with open(output,'w') as outfile:\n",
    "        outfile.write(xml)\n",
    "    return"
   ]
  },
  {
   "cell_type": "markdown",
   "metadata": {},
   "source": [
    "ทำการเรียกอ่าน JSON ที่ได้สร้างไว้เมื่อครู่เพื่อทำการแปลงเป็น XML ด้วยฟังก์ชันจาก libralt json2xml"
   ]
  },
  {
   "cell_type": "code",
   "execution_count": 40,
   "metadata": {},
   "outputs": [],
   "source": [
    "writeXML('JSON_export_test.json','XML_export_test.xml')"
   ]
  },
  {
   "cell_type": "markdown",
   "metadata": {},
   "source": [
    "# GeoDataFrame To Geojson\n",
    "ps. ใช้ตัวย่างข้อมูลจากใน package"
   ]
  },
  {
   "cell_type": "code",
   "execution_count": 43,
   "metadata": {},
   "outputs": [
    {
     "name": "stdout",
     "output_type": "stream",
     "text": [
      "   BoroCode       BoroName     Shape_Leng    Shape_Area  \\\n",
      "0         5  Staten Island  330470.010332  1.623820e+09   \n",
      "1         4         Queens  896344.047763  3.045213e+09   \n",
      "2         3       Brooklyn  741080.523166  1.937479e+09   \n",
      "3         1      Manhattan  359299.096471  6.364715e+08   \n",
      "4         2          Bronx  464392.991824  1.186925e+09   \n",
      "\n",
      "                                            geometry  \n",
      "0  MULTIPOLYGON (((970217.022 145643.332, 970227....  \n",
      "1  MULTIPOLYGON (((1029606.077 156073.814, 102957...  \n",
      "2  MULTIPOLYGON (((1021176.479 151374.797, 102100...  \n",
      "3  MULTIPOLYGON (((981219.056 188655.316, 980940....  \n",
      "4  MULTIPOLYGON (((1012821.806 229228.265, 101278...  \n"
     ]
    }
   ],
   "source": [
    "import geopandas as gpd\n",
    "path_to_data = gpd.datasets.get_path(\"nybb\")\n",
    "gdf = gpd.read_file(path_to_data)\n",
    "print(gdf)\n",
    "gdf.to_file(\"my_file.geojson\", driver=\"GeoJSON\")"
   ]
  }
 ],
 "metadata": {
  "interpreter": {
   "hash": "cca34ded2a08de6dd3e44ea825375fa56f7007205b3ffafbbfe30a829c4cc4f6"
  },
  "kernelspec": {
   "display_name": "Python 3.8.8 64-bit ('base': conda)",
   "name": "python3"
  },
  "language_info": {
   "codemirror_mode": {
    "name": "ipython",
    "version": 3
   },
   "file_extension": ".py",
   "mimetype": "text/x-python",
   "name": "python",
   "nbconvert_exporter": "python",
   "pygments_lexer": "ipython3",
   "version": "3.8.8"
  },
  "orig_nbformat": 4
 },
 "nbformat": 4,
 "nbformat_minor": 2
}